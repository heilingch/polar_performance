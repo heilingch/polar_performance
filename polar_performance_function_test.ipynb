{
 "cells": [
  {
   "cell_type": "markdown",
   "metadata": {},
   "source": [
    "# Test conversion from True to Applied wind"
   ]
  },
  {
   "cell_type": "markdown",
   "metadata": {},
   "source": [
    "## Definition of function"
   ]
  },
  {
   "cell_type": "code",
   "execution_count": 14,
   "metadata": {},
   "outputs": [],
   "source": [
    "import numpy as np\n",
    "\n",
    "def tw_2_aw(twa, tws, boat_speed):\n",
    "    \"\"\"\n",
    "    Calculate the Apparent Wind Angle (AWA) for a given TWA, TWS, and boat speed.\n",
    "    Formulas taken from:\n",
    "    https://orc.org/uploads/files/Rules-Regulations/2025/Speed-Guide-Explanation-2025.pdf\n",
    "    Args:\n",
    "        twa (float): True Wind Angle in degrees\n",
    "        tws (float): True Wind Speed in knots\n",
    "        boat_speed (float): Boat speed in knots\n",
    "        mode: 'beat' or 'run'\n",
    "        \n",
    "    Returns:\n",
    "        float: Apparent Wind Angle in degrees\n",
    "    \"\"\"\n",
    "\n",
    "    # Convert angles to radians for numpy\n",
    "    btw = np.radians(twa) # bearing of true wind\n",
    "    baw = np.arctan((tws*np.sin(btw))/(tws*np.cos(btw) + boat_speed))\n",
    "        \n",
    "    # Calculate AWS\n",
    "    # vaw = np.sqrt(tws**2 + boat_speed**2 - 2 * tws * boat_speed * np.cos(phi_rad))\n",
    "    vaw = np.sqrt((tws*np.sin(btw))**2 + ((tws*np.cos(btw) + boat_speed)**2))\n",
    "\n",
    "    # Calculate AWA\n",
    "    #baw = np.arccos(-1*(tws**2 - aws**2 - boat_speed**2) / (2 * tws * aws)) \n",
    "    baw = np.arctan((tws*np.sin(btw))/(tws*np.cos(btw) + boat_speed))\n",
    "    awa = np.degrees(baw)\n",
    "    if awa < 0:\n",
    "        print(\"DEBUG: Applied wind angle is negative, adding 180 degrees\")\n",
    "        awa = awa + 180\n",
    "    \n",
    "    return {'awa': round(awa,2), 'aws': round(vaw,2)}"
   ]
  },
  {
   "cell_type": "markdown",
   "metadata": {},
   "source": [
    "## Test the function"
   ]
  },
  {
   "cell_type": "code",
   "execution_count": null,
   "metadata": {},
   "outputs": [],
   "source": []
  },
  {
   "cell_type": "code",
   "execution_count": 15,
   "metadata": {},
   "outputs": [
    {
     "name": "stdout",
     "output_type": "stream",
     "text": [
      "DEBUG: Applied wind angle is negative, adding 180 degrees\n",
      "DEBUG: Applied wind angle is negative, adding 180 degrees\n",
      "AWS: 13.91 kn | AWA: 112.48°\n"
     ]
    }
   ],
   "source": [
    "tws = 20\n",
    "twa = 140\n",
    "boat_speed = 10\n",
    "\n",
    "awa = tw_2_aw(twa, tws, boat_speed)['awa']\n",
    "aws = tw_2_aw(twa, tws, boat_speed)['aws']\n",
    "\n",
    "print(f\"AWS: {aws} kn | AWA: {awa}°\")"
   ]
  },
  {
   "cell_type": "markdown",
   "metadata": {},
   "source": [
    "# GPS position readout from GPS Mouse"
   ]
  },
  {
   "cell_type": "markdown",
   "metadata": {},
   "source": [
    "## GPSD reader class"
   ]
  },
  {
   "cell_type": "code",
   "execution_count": 1,
   "metadata": {},
   "outputs": [
    {
     "ename": "ModuleNotFoundError",
     "evalue": "No module named 'serial'",
     "output_type": "error",
     "traceback": [
      "\u001b[0;31m---------------------------------------------------------------------------\u001b[0m",
      "\u001b[0;31mModuleNotFoundError\u001b[0m                       Traceback (most recent call last)",
      "Cell \u001b[0;32mIn [1], line 1\u001b[0m\n\u001b[0;32m----> 1\u001b[0m \u001b[38;5;28;01mimport\u001b[39;00m \u001b[38;5;21;01mserial\u001b[39;00m\n\u001b[1;32m      2\u001b[0m \u001b[38;5;28;01mimport\u001b[39;00m \u001b[38;5;21;01mpynmea2\u001b[39;00m\n\u001b[1;32m      3\u001b[0m \u001b[38;5;28;01mimport\u001b[39;00m \u001b[38;5;21;01mtime\u001b[39;00m\n",
      "\u001b[0;31mModuleNotFoundError\u001b[0m: No module named 'serial'"
     ]
    }
   ],
   "source": [
    "import serial\n",
    "import pynmea2\n",
    "import time\n",
    "from typing import Optional, Tuple\n",
    "\n",
    "class GPSSpeedReader:\n",
    "    def __init__(self, port: str = '/dev/ttyUSB0', baud_rate: int = 4800):\n",
    "        \"\"\"\n",
    "        Initialize GPS reader with specified port and baud rate.\n",
    "        \n",
    "        Args:\n",
    "            port: Serial port where GPS device is connected (default: /dev/ttyUSB0)\n",
    "            baud_rate: Communication speed (default: 4800, common for GPS devices)\n",
    "        \"\"\"\n",
    "        self.port = port\n",
    "        self.baud_rate = baud_rate\n",
    "        self.serial_connection = None\n",
    "        \n",
    "    def connect(self) -> bool:\n",
    "        \"\"\"\n",
    "        Establish connection to the GPS device.\n",
    "        \n",
    "        Returns:\n",
    "            bool: True if connection successful, False otherwise\n",
    "        \"\"\"\n",
    "        try:\n",
    "            self.serial_connection = serial.Serial(\n",
    "                port=self.port,\n",
    "                baudrate=self.baud_rate,\n",
    "                timeout=1  # 1 second timeout for reading\n",
    "            )\n",
    "            return True\n",
    "        except serial.SerialException as e:\n",
    "            print(f\"Error connecting to GPS device: {e}\")\n",
    "            return False\n",
    "            \n",
    "    def read_speed(self) -> Optional[Tuple[float, float]]:\n",
    "        \"\"\"\n",
    "        Read and parse NMEA data to get current speed.\n",
    "        \n",
    "        Returns:\n",
    "            Optional[Tuple[float, float]]: Tuple of (speed_knots, speed_kph) or None if no valid data\n",
    "        \"\"\"\n",
    "        if not self.serial_connection or not self.serial_connection.is_open:\n",
    "            return None\n",
    "            \n",
    "        try:\n",
    "            # Read lines until we get a valid NMEA sentence\n",
    "            while True:\n",
    "                line = self.serial_connection.readline().decode('ascii', errors='replace')\n",
    "                \n",
    "                # Check if we have a valid NMEA sentence\n",
    "                if line.startswith('$'):\n",
    "                    msg = pynmea2.parse(line)\n",
    "                    \n",
    "                    # RMC (Recommended Minimum Navigation Information) contains speed\n",
    "                    if isinstance(msg, pynmea2.RMC):\n",
    "                        if msg.spd_over_grnd is not None:\n",
    "                            speed_knots = float(msg.spd_over_grnd)\n",
    "                            speed_kph = speed_knots * 1.852  # Convert knots to km/h\n",
    "                            return (speed_knots, speed_kph)\n",
    "                            \n",
    "                    # VTG (Track Made Good and Ground Speed) also contains speed\n",
    "                    elif isinstance(msg, pynmea2.VTG):\n",
    "                        if msg.spd_over_grnd_kts is not None:\n",
    "                            speed_knots = float(msg.spd_over_grnd_kts)\n",
    "                            speed_kph = speed_knots * 1.852\n",
    "                            return (speed_knots, speed_kph)\n",
    "                            \n",
    "        except (serial.SerialException, pynmea2.ParseError, ValueError) as e:\n",
    "            print(f\"Error reading GPS data: {e}\")\n",
    "            return None\n",
    "            \n",
    "    def close(self):\n",
    "        \"\"\"Clean up serial connection.\"\"\"\n",
    "        if self.serial_connection and self.serial_connection.is_open:\n",
    "            self.serial_connection.close()\n",
    "\n",
    "def main():\n",
    "    \"\"\"Example usage of the GPSSpeedReader class.\"\"\"\n",
    "    gps_reader = GPSSpeedReader()\n",
    "    \n",
    "    if not gps_reader.connect():\n",
    "        print(\"Failed to connect to GPS device\")\n",
    "        return\n",
    "        \n",
    "    try:\n",
    "        print(\"Reading GPS speed data. Press Ctrl+C to stop...\")\n",
    "        while True:\n",
    "            speed_data = gps_reader.read_speed()\n",
    "            if speed_data:\n",
    "                speed_knots, speed_kph = speed_data\n",
    "                print(f\"Current speed: {speed_knots:.1f} knots ({speed_kph:.1f} km/h)\")\n",
    "            time.sleep(1)  # Read speed every second\n",
    "            \n",
    "    except KeyboardInterrupt:\n",
    "        print(\"\\nStopping GPS reading...\")\n",
    "    finally:\n",
    "        gps_reader.close()\n",
    "\n",
    "if __name__ == \"__main__\":\n",
    "    main()"
   ]
  },
  {
   "cell_type": "code",
   "execution_count": 1,
   "metadata": {},
   "outputs": [],
   "source": [
    "import threading\n",
    "import time\n",
    "import math\n",
    "import json\n",
    "import websocket\n",
    "import requests\n",
    "from urllib.parse import urljoin"
   ]
  },
  {
   "cell_type": "markdown",
   "metadata": {},
   "source": [
    "## SignalK Data retrieval\n",
    "\n",
    "Forget about SignalK - it is too complicated, because OpenCPN is not able to output data via SignalK. It is also overkill, because OpenCPN can natively stream NMEA data to an UDP datastream.\n",
    "It is possible to use both, NMEA0183 and NMEA200.\n",
    "\n",
    "Next step: Find out what is easier, and then program a class which can read the data from a network stream."
   ]
  },
  {
   "cell_type": "code",
   "execution_count": null,
   "metadata": {},
   "outputs": [
    {
     "ename": "ImportError",
     "evalue": "cannot import name 'SignalKReader' from 'signalK_reader' (/home/christian/Dropbox/scripts/python/polar_performance/signalK_reader.py)",
     "output_type": "error",
     "traceback": [
      "\u001b[0;31m---------------------------------------------------------------------------\u001b[0m",
      "\u001b[0;31mImportError\u001b[0m                               Traceback (most recent call last)",
      "Cell \u001b[0;32mIn[11], line 1\u001b[0m\n\u001b[0;32m----> 1\u001b[0m \u001b[38;5;28;01mfrom\u001b[39;00m \u001b[38;5;21;01msignalK_reader\u001b[39;00m \u001b[38;5;28;01mimport\u001b[39;00m SignalKReader\n",
      "\u001b[0;31mImportError\u001b[0m: cannot import name 'SignalKReader' from 'signalK_reader' (/home/christian/Dropbox/scripts/python/polar_performance/signalK_reader.py)"
     ]
    }
   ],
   "source": []
  },
  {
   "cell_type": "code",
   "execution_count": 3,
   "metadata": {},
   "outputs": [
    {
     "name": "stdout",
     "output_type": "stream",
     "text": [
      "**ERR SIGNALK: Error discovering endpoints: HTTPConnectionPool(host='localhost', port=3000): Max retries exceeded with url: /signalk (Caused by NewConnectionError('<urllib3.connection.HTTPConnection object at 0x7f9d2cdd4910>: Failed to establish a new connection: [Errno 111] Connection refused'))\n",
      "**ERR SIGNALK: No WebSocket URL available\n",
      "**ERR SIGNALK: No WebSocket URL available\n",
      "No valid speed reading yet.\n",
      "No valid wind data yet.\n",
      "**ERR SIGNALK: No WebSocket URL available\n",
      "No valid speed reading yet.\n",
      "No valid wind data yet.\n",
      "**ERR SIGNALK: No WebSocket URL available\n",
      "No valid speed reading yet.\n",
      "No valid wind data yet.\n",
      "**ERR SIGNALK: No WebSocket URL available\n",
      "No valid speed reading yet.\n",
      "No valid wind data yet.\n",
      "**ERR SIGNALK: No WebSocket URL available\n",
      "No valid speed reading yet.\n",
      "No valid wind data yet.\n",
      "**ERR SIGNALK: No WebSocket URL available\n",
      "No valid speed reading yet.\n",
      "No valid wind data yet.\n",
      "**ERR SIGNALK: No WebSocket URL available\n",
      "No valid speed reading yet.\n",
      "No valid wind data yet.\n",
      "**ERR SIGNALK: No WebSocket URL available\n",
      "No valid speed reading yet.\n",
      "No valid wind data yet.\n",
      "**ERR SIGNALK: No WebSocket URL available\n",
      "No valid speed reading yet.\n",
      "No valid wind data yet.\n",
      "**ERR SIGNALK: No WebSocket URL available\n",
      "No valid speed reading yet.\n",
      "No valid wind data yet.\n",
      "**ERR SIGNALK: No WebSocket URL available\n",
      "No valid speed reading yet.\n",
      "No valid wind data yet.\n",
      "**ERR SIGNALK: No WebSocket URL available\n",
      "No valid speed reading yet.\n",
      "No valid wind data yet.\n",
      "**ERR SIGNALK: No WebSocket URL available\n",
      "No valid speed reading yet.\n",
      "No valid wind data yet.\n",
      "**ERR SIGNALK: No WebSocket URL available\n",
      "No valid speed reading yet.\n",
      "No valid wind data yet.\n",
      "**ERR SIGNALK: No WebSocket URL available\n",
      "No valid speed reading yet.\n",
      "No valid wind data yet.\n",
      "**ERR SIGNALK: No WebSocket URL available\n",
      "No valid speed reading yet.\n",
      "No valid wind data yet.\n",
      "**ERR SIGNALK: No WebSocket URL available\n",
      "No valid speed reading yet.\n",
      "No valid wind data yet.\n",
      "**ERR SIGNALK: No WebSocket URL available\n",
      "No valid speed reading yet.\n",
      "No valid wind data yet.\n",
      "**ERR SIGNALK: No WebSocket URL available\n",
      "No valid speed reading yet.\n",
      "No valid wind data yet.\n",
      "**ERR SIGNALK: No WebSocket URL available\n",
      "No valid speed reading yet.\n",
      "No valid wind data yet.\n",
      "**ERR SIGNALK: No WebSocket URL available\n",
      "No valid speed reading yet.\n",
      "No valid wind data yet.\n",
      "**ERR SIGNALK: No WebSocket URL available\n",
      "No valid speed reading yet.\n",
      "No valid wind data yet.\n",
      "**ERR SIGNALK: No WebSocket URL available\n",
      "No valid speed reading yet.\n",
      "No valid wind data yet.\n",
      "**ERR SIGNALK: No WebSocket URL available\n",
      "No valid speed reading yet.\n",
      "No valid wind data yet.\n",
      "Exiting...\n"
     ]
    }
   ],
   "source": [
    "from signalK_reader import SignalKReader\n",
    "import time\n",
    "\n",
    "# Example usage:\n",
    "\n",
    "signalk_reader = SignalKReader()\n",
    "try:\n",
    "    while True:\n",
    "        time.sleep(5)\n",
    "        success, speed = signalk_reader.read_gps_speed()\n",
    "        wind_success, tws, twa, twd = signalk_reader.read_wind_data()\n",
    "        \n",
    "        if success:\n",
    "            print(f\"Current speed: {speed:.2f} knots\")\n",
    "        else:\n",
    "            print(\"No valid speed reading yet.\")\n",
    "            \n",
    "        if wind_success:\n",
    "            print(f\"Wind data - TWS: {tws:.2f}kt, TWA: {twa:.1f}°, TWD: {twd:.1f}°\")\n",
    "        else:\n",
    "            print(\"No valid wind data yet.\")\n",
    "            \n",
    "except KeyboardInterrupt:\n",
    "    print(\"Exiting...\")\n",
    "finally:\n",
    "    signalk_reader.close()\n"
   ]
  },
  {
   "cell_type": "markdown",
   "metadata": {},
   "source": [
    "# UDP data retrieval"
   ]
  },
  {
   "cell_type": "code",
   "execution_count": 1,
   "metadata": {},
   "outputs": [
    {
     "name": "stdout",
     "output_type": "stream",
     "text": [
      "Starting OpenCPN Network Reader (UDP Server Mode)...\n",
      "**INFO NET: UDP listener started on 127.0.0.1:10110\n",
      "21:40:51 **NET DATA: Fix: GPS, Sats: 11, HDOP: 1.3, Pos: 47°04.243'N, 15°26.371'N\n",
      "             SOG: 5.1kn, COG: 45°\n",
      "             TWS: 10.0kn, TWD: 46°, TWA: 1°\n",
      "21:40:56 **NET DATA: Fix: GPS, Sats: 8, HDOP: 1.8, Pos: 47°04.248'N, 15°26.379'N\n",
      "             SOG: 4.9kn, COG: 47°\n",
      "             TWS: 10.2kn, TWD: 44°, TWA: -3°\n",
      "21:41:01 **NET DATA: Fix: GPS, Sats: 9, HDOP: 1.5, Pos: 47°04.252'N, 15°26.386'N\n",
      "             SOG: 5.0kn, COG: 47°\n",
      "             TWS: 10.2kn, TWD: 38°, TWA: -10°\n",
      "21:41:06 **NET DATA: Fix: GPS, Sats: 11, HDOP: 1.0, Pos: 47°04.257'N, 15°26.394'N\n",
      "             SOG: 5.2kn, COG: 46°\n",
      "             TWS: 10.9kn, TWD: 36°, TWA: -11°\n",
      "21:41:11 **NET DATA: Fix: GPS, Sats: 8, HDOP: 1.1, Pos: 47°04.262'N, 15°26.401'N\n",
      "             SOG: 5.1kn, COG: 43°\n",
      "             TWS: 10.6kn, TWD: 34°, TWA: -9°\n",
      "21:41:16 **NET DATA: Fix: GPS, Sats: 11, HDOP: 1.4, Pos: 47°04.267'N, 15°26.408'N\n",
      "             SOG: 4.7kn, COG: 44°\n",
      "             TWS: 10.7kn, TWD: 31°, TWA: -14°\n",
      "21:41:21 **NET DATA: Fix: GPS, Sats: 12, HDOP: 1.3, Pos: 47°04.272'N, 15°26.415'N\n",
      "             SOG: 4.7kn, COG: 43°\n",
      "             TWS: 10.9kn, TWD: 33°, TWA: -11°\n",
      "21:41:26 **NET DATA: Fix: GPS, Sats: 9, HDOP: 1.9, Pos: 47°04.276'N, 15°26.421'N\n",
      "             SOG: 4.7kn, COG: 44°\n",
      "             TWS: 10.1kn, TWD: 36°, TWA: -8°\n",
      "\n",
      "Exiting due to KeyboardInterrupt...\n",
      "**INFO NET: Closing network reader...\n",
      "**INFO NET: Polling thread stopped.\n",
      "**INFO NET: UDP socket closed.\n",
      "**INFO NET: Network reader closed.\n",
      "Program terminated.\n"
     ]
    }
   ],
   "source": [
    "from udp_gps_reader import UDPNetworkReader\n",
    "\n",
    "import socket\n",
    "import threading\n",
    "import time\n",
    "import math\n",
    "import re\n",
    "\n",
    "# Example Usage:\n",
    "# 1. Configure OpenCPN:\n",
    "#    - Go to Settings (wrench icon) -> Connections.\n",
    "#    - Add a new connection.\n",
    "#    - Type: Network. Protocol: UDP (or TCP). Address: (e.g., 0.0.0.0 or specific IP if sending from OpenCPN).\n",
    "#    - Port: 10110 (or your chosen port).\n",
    "#    - Direction: Output. Output on this port/address.\n",
    "#    - NMEA Sentences: Select sentences to output (e.g., RMC, GGA, VTG, MWD, MWV).\n",
    "#    - Apply and OK.\n",
    "\n",
    "# This script will act as a UDP server listening on 0.0.0.0:10110\n",
    "# Or as a TCP client connecting to OpenCPN if OpenCPN is TCP server.\n",
    "# For TCP server mode in this script, _init_socket and _poll_data_stream would need changes.\n",
    "\n",
    "# UDP Example (this script is a server)\n",
    "print(\"Starting OpenCPN Network Reader (UDP Server Mode)...\")\n",
    "# Use '127.0.0.1' if OpenCPN is on the same machine and outputting to 127.0.0.1\n",
    "# Use '0.0.0.0' to listen on all interfaces if OpenCPN outputs to this machine's IP or broadcast.\n",
    "udp_reader = UDPNetworkReader(host='127.0.0.1', port=10110, connection_type='udp')\n",
    "\n",
    "# TCP Client Example (this script is a client, OpenCPN is server)\n",
    "# print(\"Starting OpenCPN Network Reader (TCP Client Mode)...\")\n",
    "# ocpn_reader = OpenCPNNetworkReader(host='localhost', port=10110, connection_type='tcp')\n",
    "\n",
    "if udp_reader.sock is None:\n",
    "    print(\"Failed to start reader. Exiting.\")\n",
    "    exit()\n",
    "\n",
    "try:\n",
    "    last_print_time = 0\n",
    "    while True:\n",
    "        time.sleep(1) # Main loop processing interval\n",
    "\n",
    "        # Get all data at once\n",
    "        current_data = udp_reader.get_latest_data()\n",
    "        \n",
    "        # Print info every 5 seconds if data has been updated\n",
    "        if current_data['last_update_time'] > 0 and time.time() - last_print_time > 5:\n",
    "            udp_reader._print_info() # Use the internal print method for formatted output\n",
    "            last_print_time = time.time()\n",
    "\n",
    "        # Example of getting specific data points:\n",
    "        # success_sog, sog = ocpn_reader.get_sog_knots()\n",
    "        # if success_sog:\n",
    "        #     print(f\"SOG: {sog:.2f} knots\")\n",
    "        # else:\n",
    "        #     print(\"SOG: No valid SOG yet.\")\n",
    "\n",
    "        # success_wind, tws, twd, twa = ocpn_reader.get_true_wind()\n",
    "        # if success_wind:\n",
    "        #    print(f\"Wind: TWS {tws:.1f}kn, TWD {twd:.0f}°, TWA {twa:.0f}°\")\n",
    "\n",
    "except KeyboardInterrupt:\n",
    "    print(\"\\nExiting due to KeyboardInterrupt...\")\n",
    "finally:\n",
    "    udp_reader.close()\n",
    "    print(\"Program terminated.\")\n"
   ]
  },
  {
   "cell_type": "code",
   "execution_count": 2,
   "metadata": {},
   "outputs": [
    {
     "name": "stdout",
     "output_type": "stream",
     "text": [
      "**INFO NET: Closing network reader...\n",
      "**INFO NET: UDP socket closed.\n",
      "**INFO NET: Network reader closed.\n",
      "UDP reader closed.\n"
     ]
    }
   ],
   "source": [
    "udp_reader.close()\n",
    "print(\"UDP reader closed.\")\n"
   ]
  },
  {
   "cell_type": "code",
   "execution_count": 3,
   "metadata": {},
   "outputs": [
    {
     "data": {
      "text/plain": [
       "{'sog_knots': 4.6,\n",
       " 'lat': 47.07129,\n",
       " 'lon': 15.440376666666669,\n",
       " 'cog_degrees': 43.7,\n",
       " 'fix_mode': 1,\n",
       " 'hdop': 1.9,\n",
       " 'satellites_count': 9,\n",
       " 'tws_knots': 10.1,\n",
       " 'twd_degrees': 37.9,\n",
       " 'twa_degrees': -5.800000000000004,\n",
       " 'last_update_time': 1747683687.2710834}"
      ]
     },
     "execution_count": 3,
     "metadata": {},
     "output_type": "execute_result"
    }
   ],
   "source": [
    "current_data"
   ]
  },
  {
   "cell_type": "code",
   "execution_count": null,
   "metadata": {},
   "outputs": [],
   "source": []
  }
 ],
 "metadata": {
  "kernelspec": {
   "display_name": "Python 3",
   "language": "python",
   "name": "python3"
  },
  "language_info": {
   "codemirror_mode": {
    "name": "ipython",
    "version": 3
   },
   "file_extension": ".py",
   "mimetype": "text/x-python",
   "name": "python",
   "nbconvert_exporter": "python",
   "pygments_lexer": "ipython3",
   "version": "3.12.7"
  }
 },
 "nbformat": 4,
 "nbformat_minor": 2
}
